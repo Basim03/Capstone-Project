{
 "cells": [
  {
   "cell_type": "code",
   "execution_count": 1,
   "metadata": {},
   "outputs": [
    {
     "name": "stdout",
     "output_type": "stream",
     "text": [
      "WARNING:tensorflow:From c:\\Users\\basim\\AppData\\Local\\Programs\\Python\\Python310\\lib\\site-packages\\keras\\src\\losses.py:2976: The name tf.losses.sparse_softmax_cross_entropy is deprecated. Please use tf.compat.v1.losses.sparse_softmax_cross_entropy instead.\n",
      "\n"
     ]
    }
   ],
   "source": [
    "import numpy as np\n",
    "import pandas as pd\n",
    "import matplotlib.pyplot as plt\n",
    "import tensorflow as tf\n",
    "from tensorflow import keras\n",
    "from tensorflow.keras import layers \n",
    "from tensorflow.keras import regularizers\n",
    "from tensorflow.keras import backend as K\n",
    "from tensorflow.keras.callbacks import EarlyStopping\n",
    "from tensorflow.keras.callbacks import ModelCheckpoint\n",
    "from tensorflow.keras.callbacks import ReduceLROnPlateau\n",
    "from tensorflow.keras.models import load_model\n",
    "from sklearn.model_selection import train_test_split\n",
    "from sklearn.preprocessing import StandardScaler\n",
    "from sklearn.preprocessing import MinMaxScaler\n",
    "from sklearn.preprocessing import RobustScaler\n",
    "from sklearn.preprocessing import QuantileTransformer\n",
    "from sklearn.preprocessing import PowerTransformer\n",
    "# from sklearn.preprocessing import Normailzer\n",
    "import seaborn as sns\n"
   ]
  },
  {
   "cell_type": "code",
   "execution_count": null,
   "metadata": {},
   "outputs": [],
   "source": []
  },
  {
   "cell_type": "code",
   "execution_count": 2,
   "metadata": {},
   "outputs": [],
   "source": [
    "df=pd.read_csv('new_dataset.csv')"
   ]
  },
  {
   "cell_type": "code",
   "execution_count": 216,
   "metadata": {},
   "outputs": [
    {
     "data": {
      "text/html": [
       "<div>\n",
       "<style scoped>\n",
       "    .dataframe tbody tr th:only-of-type {\n",
       "        vertical-align: middle;\n",
       "    }\n",
       "\n",
       "    .dataframe tbody tr th {\n",
       "        vertical-align: top;\n",
       "    }\n",
       "\n",
       "    .dataframe thead th {\n",
       "        text-align: right;\n",
       "    }\n",
       "</style>\n",
       "<table border=\"1\" class=\"dataframe\">\n",
       "  <thead>\n",
       "    <tr style=\"text-align: right;\">\n",
       "      <th></th>\n",
       "      <th>Unnamed: 0</th>\n",
       "      <th>cc_num</th>\n",
       "      <th>amt</th>\n",
       "      <th>zip</th>\n",
       "      <th>city_pop</th>\n",
       "      <th>trans_num</th>\n",
       "      <th>unix_time</th>\n",
       "      <th>is_fraud</th>\n",
       "    </tr>\n",
       "  </thead>\n",
       "  <tbody>\n",
       "    <tr>\n",
       "      <th>1296670</th>\n",
       "      <td>1296670</td>\n",
       "      <td>30263540414123</td>\n",
       "      <td>15.56</td>\n",
       "      <td>84735</td>\n",
       "      <td>258</td>\n",
       "      <td>344658</td>\n",
       "      <td>1371816728</td>\n",
       "      <td>0</td>\n",
       "    </tr>\n",
       "    <tr>\n",
       "      <th>1296671</th>\n",
       "      <td>1296671</td>\n",
       "      <td>6011149206456997</td>\n",
       "      <td>51.70</td>\n",
       "      <td>21790</td>\n",
       "      <td>100</td>\n",
       "      <td>199896</td>\n",
       "      <td>1371816739</td>\n",
       "      <td>0</td>\n",
       "    </tr>\n",
       "    <tr>\n",
       "      <th>1296672</th>\n",
       "      <td>1296672</td>\n",
       "      <td>3514865930894695</td>\n",
       "      <td>105.93</td>\n",
       "      <td>88325</td>\n",
       "      <td>899</td>\n",
       "      <td>366013</td>\n",
       "      <td>1371816752</td>\n",
       "      <td>0</td>\n",
       "    </tr>\n",
       "    <tr>\n",
       "      <th>1296673</th>\n",
       "      <td>1296673</td>\n",
       "      <td>2720012583106919</td>\n",
       "      <td>74.90</td>\n",
       "      <td>57756</td>\n",
       "      <td>1126</td>\n",
       "      <td>1086299</td>\n",
       "      <td>1371816816</td>\n",
       "      <td>0</td>\n",
       "    </tr>\n",
       "    <tr>\n",
       "      <th>1296674</th>\n",
       "      <td>1296674</td>\n",
       "      <td>4292902571056973207</td>\n",
       "      <td>4.30</td>\n",
       "      <td>59871</td>\n",
       "      <td>218</td>\n",
       "      <td>726622</td>\n",
       "      <td>1371816817</td>\n",
       "      <td>0</td>\n",
       "    </tr>\n",
       "  </tbody>\n",
       "</table>\n",
       "</div>"
      ],
      "text/plain": [
       "         Unnamed: 0               cc_num     amt    zip  city_pop  trans_num  \\\n",
       "1296670     1296670       30263540414123   15.56  84735       258     344658   \n",
       "1296671     1296671     6011149206456997   51.70  21790       100     199896   \n",
       "1296672     1296672     3514865930894695  105.93  88325       899     366013   \n",
       "1296673     1296673     2720012583106919   74.90  57756      1126    1086299   \n",
       "1296674     1296674  4292902571056973207    4.30  59871       218     726622   \n",
       "\n",
       "          unix_time  is_fraud  \n",
       "1296670  1371816728         0  \n",
       "1296671  1371816739         0  \n",
       "1296672  1371816752         0  \n",
       "1296673  1371816816         0  \n",
       "1296674  1371816817         0  "
      ]
     },
     "execution_count": 216,
     "metadata": {},
     "output_type": "execute_result"
    }
   ],
   "source": [
    "df.tail()"
   ]
  },
  {
   "cell_type": "code",
   "execution_count": 124,
   "metadata": {},
   "outputs": [
    {
     "data": {
      "text/plain": [
       "is_fraud\n",
       "0    1289169\n",
       "1       7506\n",
       "Name: count, dtype: int64"
      ]
     },
     "execution_count": 124,
     "metadata": {},
     "output_type": "execute_result"
    }
   ],
   "source": [
    "#count all the values in the class column\n",
    "df['is_fraud'].value_counts()"
   ]
  },
  {
   "cell_type": "code",
   "execution_count": 208,
   "metadata": {},
   "outputs": [
    {
     "name": "stdout",
     "output_type": "stream",
     "text": [
      "         Unnamed: 0            cc_num      amt    zip  city_pop  trans_num  \\\n",
      "2449           2449     4613314721966   281.06  28611       885    1178659   \n",
      "2472           2472   340187018810220    11.52  78208   1595797     954913   \n",
      "2523           2523   340187018810220   276.31  78208   1595797     940333   \n",
      "2546           2546     4613314721966     7.03  28611       885     291079   \n",
      "2553           2553   340187018810220   275.73  78208   1595797     609438   \n",
      "...             ...               ...      ...    ...       ...        ...   \n",
      "1295399     1295399  3524574586339330   977.01  32960    105638     852116   \n",
      "1295491     1295491  3524574586339330  1210.91  32960    105638    1252988   \n",
      "1295532     1295532  4005676619255478    10.24  70726     71335     814134   \n",
      "1295666     1295666  3560725013359375    21.69  79759        23    1107480   \n",
      "1295733     1295733  4005676619255478    10.20  70726     71335      61427   \n",
      "\n",
      "          unix_time  is_fraud  \n",
      "2449     1325466397         1  \n",
      "2472     1325468849         1  \n",
      "2523     1325473523         1  \n",
      "2546     1325475483         1  \n",
      "2553     1325476547         1  \n",
      "...             ...       ...  \n",
      "1295399  1371776408         1  \n",
      "1295491  1371779615         1  \n",
      "1295532  1371781016         1  \n",
      "1295666  1371785180         1  \n",
      "1295733  1371787186         1  \n",
      "\n",
      "[7506 rows x 8 columns]\n"
     ]
    }
   ],
   "source": [
    "fraud_values = df[df['is_fraud'] == 1]\n",
    "print(fraud_values)\n",
    "\n",
    "        "
   ]
  },
  {
   "cell_type": "code",
   "execution_count": 3,
   "metadata": {},
   "outputs": [],
   "source": [
    "from sklearn.preprocessing import LabelEncoder\n",
    "\n",
    "encoder = LabelEncoder()\n",
    "df['trans_num'] = encoder.fit_transform(df['trans_num'])\n",
    "\n",
    "\n"
   ]
  },
  {
   "cell_type": "code",
   "execution_count": null,
   "metadata": {},
   "outputs": [],
   "source": [
    "import pickle\n",
    "\n",
    "# Save the encoder object into a pickle file\n",
    "with open('encoder.pkl', 'wb') as file:\n",
    "    pickle.dump(encoder, file)\n"
   ]
  },
  {
   "cell_type": "code",
   "execution_count": 225,
   "metadata": {},
   "outputs": [
    {
     "name": "stdout",
     "output_type": "stream",
     "text": [
      "[1252988]\n"
     ]
    }
   ],
   "source": [
    "ans=encoder.transform(['f75b35bed13b9e692f170dba45a15b21'])\n",
    "print(ans)"
   ]
  },
  {
   "cell_type": "code",
   "execution_count": 126,
   "metadata": {},
   "outputs": [
    {
     "name": "stderr",
     "output_type": "stream",
     "text": [
      "C:\\Users\\basim\\AppData\\Local\\Temp\\ipykernel_8100\\2547128853.py:1: FutureWarning: \n",
      "\n",
      "Passing `palette` without assigning `hue` is deprecated and will be removed in v0.14.0. Assign the `x` variable to `hue` and set `legend=False` for the same effect.\n",
      "\n",
      "  sns.countplot(x='is_fraud', data=df, palette='hls')\n"
     ]
    },
    {
     "data": {
      "text/plain": [
       "<Axes: xlabel='is_fraud', ylabel='count'>"
      ]
     },
     "execution_count": 126,
     "metadata": {},
     "output_type": "execute_result"
    },
    {
     "data": {
      "image/png": "[encoded data removed]",
      "text/plain": [
       "<Figure size 640x480 with 1 Axes>"
      ]
     },
     "metadata": {},
     "output_type": "display_data"
    }
   ],
   "source": [
    "sns.countplot(x='is_fraud', data=df, palette='hls')"
   ]
  },
  {
   "cell_type": "code",
   "execution_count": 176,
   "metadata": {},
   "outputs": [],
   "source": [
    "# scaler=MinMaxScaler()  \n"
   ]
  },
  {
   "cell_type": "code",
   "execution_count": 198,
   "metadata": {},
   "outputs": [],
   "source": [
    "X=df.drop(['is_fraud'], axis=1)\n",
    "y=df['is_fraud']\n"
   ]
  },
  {
   "cell_type": "code",
   "execution_count": 199,
   "metadata": {},
   "outputs": [
    {
     "data": {
      "text/html": [
       "<div>\n",
       "<style scoped>\n",
       "    .dataframe tbody tr th:only-of-type {\n",
       "        vertical-align: middle;\n",
       "    }\n",
       "\n",
       "    .dataframe tbody tr th {\n",
       "        vertical-align: top;\n",
       "    }\n",
       "\n",
       "    .dataframe thead th {\n",
       "        text-align: right;\n",
       "    }\n",
       "</style>\n",
       "<table border=\"1\" class=\"dataframe\">\n",
       "  <thead>\n",
       "    <tr style=\"text-align: right;\">\n",
       "      <th></th>\n",
       "      <th>Unnamed: 0</th>\n",
       "      <th>cc_num</th>\n",
       "      <th>amt</th>\n",
       "      <th>zip</th>\n",
       "      <th>city_pop</th>\n",
       "      <th>trans_num</th>\n",
       "      <th>unix_time</th>\n",
       "    </tr>\n",
       "  </thead>\n",
       "  <tbody>\n",
       "    <tr>\n",
       "      <th>0</th>\n",
       "      <td>0</td>\n",
       "      <td>2703186189652095</td>\n",
       "      <td>4.97</td>\n",
       "      <td>28654</td>\n",
       "      <td>3495</td>\n",
       "      <td>56438</td>\n",
       "      <td>1325376018</td>\n",
       "    </tr>\n",
       "    <tr>\n",
       "      <th>1</th>\n",
       "      <td>1</td>\n",
       "      <td>630423337322</td>\n",
       "      <td>107.23</td>\n",
       "      <td>99160</td>\n",
       "      <td>149</td>\n",
       "      <td>159395</td>\n",
       "      <td>1325376044</td>\n",
       "    </tr>\n",
       "    <tr>\n",
       "      <th>2</th>\n",
       "      <td>2</td>\n",
       "      <td>38859492057661</td>\n",
       "      <td>220.11</td>\n",
       "      <td>83252</td>\n",
       "      <td>4154</td>\n",
       "      <td>818703</td>\n",
       "      <td>1325376051</td>\n",
       "    </tr>\n",
       "    <tr>\n",
       "      <th>3</th>\n",
       "      <td>3</td>\n",
       "      <td>3534093764340240</td>\n",
       "      <td>45.00</td>\n",
       "      <td>59632</td>\n",
       "      <td>1939</td>\n",
       "      <td>544575</td>\n",
       "      <td>1325376076</td>\n",
       "    </tr>\n",
       "    <tr>\n",
       "      <th>4</th>\n",
       "      <td>4</td>\n",
       "      <td>375534208663984</td>\n",
       "      <td>41.96</td>\n",
       "      <td>24433</td>\n",
       "      <td>99</td>\n",
       "      <td>831111</td>\n",
       "      <td>1325376186</td>\n",
       "    </tr>\n",
       "    <tr>\n",
       "      <th>...</th>\n",
       "      <td>...</td>\n",
       "      <td>...</td>\n",
       "      <td>...</td>\n",
       "      <td>...</td>\n",
       "      <td>...</td>\n",
       "      <td>...</td>\n",
       "      <td>...</td>\n",
       "    </tr>\n",
       "    <tr>\n",
       "      <th>1296670</th>\n",
       "      <td>1296670</td>\n",
       "      <td>30263540414123</td>\n",
       "      <td>15.56</td>\n",
       "      <td>84735</td>\n",
       "      <td>258</td>\n",
       "      <td>344658</td>\n",
       "      <td>1371816728</td>\n",
       "    </tr>\n",
       "    <tr>\n",
       "      <th>1296671</th>\n",
       "      <td>1296671</td>\n",
       "      <td>6011149206456997</td>\n",
       "      <td>51.70</td>\n",
       "      <td>21790</td>\n",
       "      <td>100</td>\n",
       "      <td>199896</td>\n",
       "      <td>1371816739</td>\n",
       "    </tr>\n",
       "    <tr>\n",
       "      <th>1296672</th>\n",
       "      <td>1296672</td>\n",
       "      <td>3514865930894695</td>\n",
       "      <td>105.93</td>\n",
       "      <td>88325</td>\n",
       "      <td>899</td>\n",
       "      <td>366013</td>\n",
       "      <td>1371816752</td>\n",
       "    </tr>\n",
       "    <tr>\n",
       "      <th>1296673</th>\n",
       "      <td>1296673</td>\n",
       "      <td>2720012583106919</td>\n",
       "      <td>74.90</td>\n",
       "      <td>57756</td>\n",
       "      <td>1126</td>\n",
       "      <td>1086299</td>\n",
       "      <td>1371816816</td>\n",
       "    </tr>\n",
       "    <tr>\n",
       "      <th>1296674</th>\n",
       "      <td>1296674</td>\n",
       "      <td>4292902571056973207</td>\n",
       "      <td>4.30</td>\n",
       "      <td>59871</td>\n",
       "      <td>218</td>\n",
       "      <td>726622</td>\n",
       "      <td>1371816817</td>\n",
       "    </tr>\n",
       "  </tbody>\n",
       "</table>\n",
       "<p>1296675 rows × 7 columns</p>\n",
       "</div>"
      ],
      "text/plain": [
       "         Unnamed: 0               cc_num     amt    zip  city_pop  trans_num  \\\n",
       "0                 0     2703186189652095    4.97  28654      3495      56438   \n",
       "1                 1         630423337322  107.23  99160       149     159395   \n",
       "2                 2       38859492057661  220.11  83252      4154     818703   \n",
       "3                 3     3534093764340240   45.00  59632      1939     544575   \n",
       "4                 4      375534208663984   41.96  24433        99     831111   \n",
       "...             ...                  ...     ...    ...       ...        ...   \n",
       "1296670     1296670       30263540414123   15.56  84735       258     344658   \n",
       "1296671     1296671     6011149206456997   51.70  21790       100     199896   \n",
       "1296672     1296672     3514865930894695  105.93  88325       899     366013   \n",
       "1296673     1296673     2720012583106919   74.90  57756      1126    1086299   \n",
       "1296674     1296674  4292902571056973207    4.30  59871       218     726622   \n",
       "\n",
       "          unix_time  \n",
       "0        1325376018  \n",
       "1        1325376044  \n",
       "2        1325376051  \n",
       "3        1325376076  \n",
       "4        1325376186  \n",
       "...             ...  \n",
       "1296670  1371816728  \n",
       "1296671  1371816739  \n",
       "1296672  1371816752  \n",
       "1296673  1371816816  \n",
       "1296674  1371816817  \n",
       "\n",
       "[1296675 rows x 7 columns]"
      ]
     },
     "execution_count": 199,
     "metadata": {},
     "output_type": "execute_result"
    }
   ],
   "source": [
    "X\n"
   ]
  },
  {
   "cell_type": "code",
   "execution_count": 200,
   "metadata": {},
   "outputs": [],
   "source": [
    "scaler=MinMaxScaler()\n",
    "X=scaler.fit_transform(X)"
   ]
  },
  {
   "cell_type": "code",
   "execution_count": 201,
   "metadata": {},
   "outputs": [],
   "source": [
    "df_normalized=pd.DataFrame(X, columns=df.columns[:-1])"
   ]
  },
  {
   "cell_type": "code",
   "execution_count": 202,
   "metadata": {},
   "outputs": [
    {
     "data": {
      "text/html": [
       "<div>\n",
       "<style scoped>\n",
       "    .dataframe tbody tr th:only-of-type {\n",
       "        vertical-align: middle;\n",
       "    }\n",
       "\n",
       "    .dataframe tbody tr th {\n",
       "        vertical-align: top;\n",
       "    }\n",
       "\n",
       "    .dataframe thead th {\n",
       "        text-align: right;\n",
       "    }\n",
       "</style>\n",
       "<table border=\"1\" class=\"dataframe\">\n",
       "  <thead>\n",
       "    <tr style=\"text-align: right;\">\n",
       "      <th></th>\n",
       "      <th>Unnamed: 0</th>\n",
       "      <th>cc_num</th>\n",
       "      <th>amt</th>\n",
       "      <th>zip</th>\n",
       "      <th>city_pop</th>\n",
       "      <th>trans_num</th>\n",
       "      <th>unix_time</th>\n",
       "    </tr>\n",
       "  </thead>\n",
       "  <tbody>\n",
       "    <tr>\n",
       "      <th>0</th>\n",
       "      <td>0.000000e+00</td>\n",
       "      <td>5.414540e-04</td>\n",
       "      <td>0.000137</td>\n",
       "      <td>0.278069</td>\n",
       "      <td>0.001194</td>\n",
       "      <td>0.043525</td>\n",
       "      <td>0.000000e+00</td>\n",
       "    </tr>\n",
       "    <tr>\n",
       "      <th>1</th>\n",
       "      <td>7.712039e-07</td>\n",
       "      <td>1.141762e-07</td>\n",
       "      <td>0.003670</td>\n",
       "      <td>0.993677</td>\n",
       "      <td>0.000043</td>\n",
       "      <td>0.122926</td>\n",
       "      <td>5.598526e-07</td>\n",
       "    </tr>\n",
       "    <tr>\n",
       "      <th>2</th>\n",
       "      <td>1.542408e-06</td>\n",
       "      <td>7.771712e-06</td>\n",
       "      <td>0.007569</td>\n",
       "      <td>0.832217</td>\n",
       "      <td>0.001421</td>\n",
       "      <td>0.631387</td>\n",
       "      <td>7.105821e-07</td>\n",
       "    </tr>\n",
       "    <tr>\n",
       "      <th>3</th>\n",
       "      <td>2.313612e-06</td>\n",
       "      <td>7.078903e-04</td>\n",
       "      <td>0.001520</td>\n",
       "      <td>0.592483</td>\n",
       "      <td>0.000659</td>\n",
       "      <td>0.419978</td>\n",
       "      <td>1.248902e-06</td>\n",
       "    </tr>\n",
       "    <tr>\n",
       "      <th>4</th>\n",
       "      <td>3.084815e-06</td>\n",
       "      <td>7.520988e-05</td>\n",
       "      <td>0.001415</td>\n",
       "      <td>0.235227</td>\n",
       "      <td>0.000026</td>\n",
       "      <td>0.640956</td>\n",
       "      <td>3.617509e-06</td>\n",
       "    </tr>\n",
       "  </tbody>\n",
       "</table>\n",
       "</div>"
      ],
      "text/plain": [
       "     Unnamed: 0        cc_num       amt       zip  city_pop  trans_num  \\\n",
       "0  0.000000e+00  5.414540e-04  0.000137  0.278069  0.001194   0.043525   \n",
       "1  7.712039e-07  1.141762e-07  0.003670  0.993677  0.000043   0.122926   \n",
       "2  1.542408e-06  7.771712e-06  0.007569  0.832217  0.001421   0.631387   \n",
       "3  2.313612e-06  7.078903e-04  0.001520  0.592483  0.000659   0.419978   \n",
       "4  3.084815e-06  7.520988e-05  0.001415  0.235227  0.000026   0.640956   \n",
       "\n",
       "      unix_time  \n",
       "0  0.000000e+00  \n",
       "1  5.598526e-07  \n",
       "2  7.105821e-07  \n",
       "3  1.248902e-06  \n",
       "4  3.617509e-06  "
      ]
     },
     "execution_count": 202,
     "metadata": {},
     "output_type": "execute_result"
    }
   ],
   "source": [
    "df_normalized.head()\n",
    "\n",
    "    "
   ]
  },
  {
   "cell_type": "code",
   "execution_count": 170,
   "metadata": {},
   "outputs": [],
   "source": [
    "from imblearn.over_sampling import RandomOverSampler\n",
    "\n",
    "ros = RandomOverSampler(random_state=0)\n",
    "X_resampled, y_resampled = ros.fit_resample(X, y)\n",
    "\n"
   ]
  },
  {
   "cell_type": "code",
   "execution_count": null,
   "metadata": {},
   "outputs": [],
   "source": []
  },
  {
   "cell_type": "code",
   "execution_count": 171,
   "metadata": {},
   "outputs": [
    {
     "data": {
      "text/html": [
       "<div>\n",
       "<style scoped>\n",
       "    .dataframe tbody tr th:only-of-type {\n",
       "        vertical-align: middle;\n",
       "    }\n",
       "\n",
       "    .dataframe tbody tr th {\n",
       "        vertical-align: top;\n",
       "    }\n",
       "\n",
       "    .dataframe thead th {\n",
       "        text-align: right;\n",
       "    }\n",
       "</style>\n",
       "<table border=\"1\" class=\"dataframe\">\n",
       "  <thead>\n",
       "    <tr style=\"text-align: right;\">\n",
       "      <th></th>\n",
       "      <th>Unnamed: 0</th>\n",
       "      <th>cc_num</th>\n",
       "      <th>amt</th>\n",
       "      <th>zip</th>\n",
       "      <th>city_pop</th>\n",
       "      <th>trans_num</th>\n",
       "      <th>unix_time</th>\n",
       "    </tr>\n",
       "  </thead>\n",
       "  <tbody>\n",
       "    <tr>\n",
       "      <th>0</th>\n",
       "      <td>0.000000e+00</td>\n",
       "      <td>5.414540e-04</td>\n",
       "      <td>0.000137</td>\n",
       "      <td>0.278069</td>\n",
       "      <td>0.001194</td>\n",
       "      <td>0.043525</td>\n",
       "      <td>0.000000e+00</td>\n",
       "    </tr>\n",
       "    <tr>\n",
       "      <th>1</th>\n",
       "      <td>7.712039e-07</td>\n",
       "      <td>1.141762e-07</td>\n",
       "      <td>0.003670</td>\n",
       "      <td>0.993677</td>\n",
       "      <td>0.000043</td>\n",
       "      <td>0.122926</td>\n",
       "      <td>5.598526e-07</td>\n",
       "    </tr>\n",
       "    <tr>\n",
       "      <th>2</th>\n",
       "      <td>1.542408e-06</td>\n",
       "      <td>7.771712e-06</td>\n",
       "      <td>0.007569</td>\n",
       "      <td>0.832217</td>\n",
       "      <td>0.001421</td>\n",
       "      <td>0.631387</td>\n",
       "      <td>7.105821e-07</td>\n",
       "    </tr>\n",
       "    <tr>\n",
       "      <th>3</th>\n",
       "      <td>2.313612e-06</td>\n",
       "      <td>7.078903e-04</td>\n",
       "      <td>0.001520</td>\n",
       "      <td>0.592483</td>\n",
       "      <td>0.000659</td>\n",
       "      <td>0.419978</td>\n",
       "      <td>1.248902e-06</td>\n",
       "    </tr>\n",
       "    <tr>\n",
       "      <th>4</th>\n",
       "      <td>3.084815e-06</td>\n",
       "      <td>7.520988e-05</td>\n",
       "      <td>0.001415</td>\n",
       "      <td>0.235227</td>\n",
       "      <td>0.000026</td>\n",
       "      <td>0.640956</td>\n",
       "      <td>3.617509e-06</td>\n",
       "    </tr>\n",
       "    <tr>\n",
       "      <th>...</th>\n",
       "      <td>...</td>\n",
       "      <td>...</td>\n",
       "      <td>...</td>\n",
       "      <td>...</td>\n",
       "      <td>...</td>\n",
       "      <td>...</td>\n",
       "      <td>...</td>\n",
       "    </tr>\n",
       "    <tr>\n",
       "      <th>2578333</th>\n",
       "      <td>2.198563e-01</td>\n",
       "      <td>5.449086e-04</td>\n",
       "      <td>0.011050</td>\n",
       "      <td>0.030753</td>\n",
       "      <td>0.001101</td>\n",
       "      <td>0.985479</td>\n",
       "      <td>2.612892e-01</td>\n",
       "    </tr>\n",
       "    <tr>\n",
       "      <th>2578334</th>\n",
       "      <td>1.048961e-01</td>\n",
       "      <td>1.204061e-03</td>\n",
       "      <td>0.017708</td>\n",
       "      <td>0.941457</td>\n",
       "      <td>0.037128</td>\n",
       "      <td>0.323254</td>\n",
       "      <td>1.396446e-01</td>\n",
       "    </tr>\n",
       "    <tr>\n",
       "      <th>2578335</th>\n",
       "      <td>7.010166e-01</td>\n",
       "      <td>9.445943e-01</td>\n",
       "      <td>0.000190</td>\n",
       "      <td>0.744737</td>\n",
       "      <td>0.000154</td>\n",
       "      <td>0.361066</td>\n",
       "      <td>6.751874e-01</td>\n",
       "    </tr>\n",
       "    <tr>\n",
       "      <th>2578336</th>\n",
       "      <td>6.287440e-01</td>\n",
       "      <td>1.050122e-07</td>\n",
       "      <td>0.009499</td>\n",
       "      <td>0.581308</td>\n",
       "      <td>0.000098</td>\n",
       "      <td>0.506976</td>\n",
       "      <td>6.362908e-01</td>\n",
       "    </tr>\n",
       "    <tr>\n",
       "      <th>2578337</th>\n",
       "      <td>4.977967e-02</td>\n",
       "      <td>8.990279e-01</td>\n",
       "      <td>0.031674</td>\n",
       "      <td>0.283306</td>\n",
       "      <td>0.017925</td>\n",
       "      <td>0.524517</td>\n",
       "      <td>7.056832e-02</td>\n",
       "    </tr>\n",
       "  </tbody>\n",
       "</table>\n",
       "<p>2578338 rows × 7 columns</p>\n",
       "</div>"
      ],
      "text/plain": [
       "           Unnamed: 0        cc_num       amt       zip  city_pop  trans_num  \\\n",
       "0        0.000000e+00  5.414540e-04  0.000137  0.278069  0.001194   0.043525   \n",
       "1        7.712039e-07  1.141762e-07  0.003670  0.993677  0.000043   0.122926   \n",
       "2        1.542408e-06  7.771712e-06  0.007569  0.832217  0.001421   0.631387   \n",
       "3        2.313612e-06  7.078903e-04  0.001520  0.592483  0.000659   0.419978   \n",
       "4        3.084815e-06  7.520988e-05  0.001415  0.235227  0.000026   0.640956   \n",
       "...               ...           ...       ...       ...       ...        ...   \n",
       "2578333  2.198563e-01  5.449086e-04  0.011050  0.030753  0.001101   0.985479   \n",
       "2578334  1.048961e-01  1.204061e-03  0.017708  0.941457  0.037128   0.323254   \n",
       "2578335  7.010166e-01  9.445943e-01  0.000190  0.744737  0.000154   0.361066   \n",
       "2578336  6.287440e-01  1.050122e-07  0.009499  0.581308  0.000098   0.506976   \n",
       "2578337  4.977967e-02  8.990279e-01  0.031674  0.283306  0.017925   0.524517   \n",
       "\n",
       "            unix_time  \n",
       "0        0.000000e+00  \n",
       "1        5.598526e-07  \n",
       "2        7.105821e-07  \n",
       "3        1.248902e-06  \n",
       "4        3.617509e-06  \n",
       "...               ...  \n",
       "2578333  2.612892e-01  \n",
       "2578334  1.396446e-01  \n",
       "2578335  6.751874e-01  \n",
       "2578336  6.362908e-01  \n",
       "2578337  7.056832e-02  \n",
       "\n",
       "[2578338 rows x 7 columns]"
      ]
     },
     "execution_count": 171,
     "metadata": {},
     "output_type": "execute_result"
    }
   ],
   "source": [
    "X_resampled"
   ]
  },
  {
   "cell_type": "code",
   "execution_count": 172,
   "metadata": {},
   "outputs": [
    {
     "data": {
      "text/plain": [
       "0          0.0\n",
       "1          0.0\n",
       "2          0.0\n",
       "3          0.0\n",
       "4          0.0\n",
       "          ... \n",
       "2578333    1.0\n",
       "2578334    1.0\n",
       "2578335    1.0\n",
       "2578336    1.0\n",
       "2578337    1.0\n",
       "Name: is_fraud, Length: 2578338, dtype: float64"
      ]
     },
     "execution_count": 172,
     "metadata": {},
     "output_type": "execute_result"
    }
   ],
   "source": [
    "y_resampled"
   ]
  },
  {
   "cell_type": "code",
   "execution_count": 203,
   "metadata": {},
   "outputs": [],
   "source": [
    "import pickle\n",
    "\n",
    "# Save the MinMaxScaler object into a pickle file\n",
    "with open('min_max_scaler.pkl', 'wb') as file:\n",
    "    pickle.dump(scaler, file)\n"
   ]
  },
  {
   "cell_type": "code",
   "execution_count": 144,
   "metadata": {},
   "outputs": [],
   "source": [
    "X_train, X_test, y_train, y_test = train_test_split(X_resampled, y_resampled, test_size=0.3, random_state=42)"
   ]
  },
  {
   "cell_type": "code",
   "execution_count": 145,
   "metadata": {},
   "outputs": [
    {
     "data": {
      "text/plain": [
       "Unnamed: 0    1804836\n",
       "cc_num        1804836\n",
       "amt           1804836\n",
       "zip           1804836\n",
       "city_pop      1804836\n",
       "trans_num     1804836\n",
       "unix_time     1804836\n",
       "dtype: int64"
      ]
     },
     "execution_count": 145,
     "metadata": {},
     "output_type": "execute_result"
    }
   ],
   "source": [
    "X_train.count()"
   ]
  },
  {
   "cell_type": "code",
   "execution_count": 146,
   "metadata": {},
   "outputs": [],
   "source": [
    "# Define the model architecture\n",
    "model = keras.Sequential([\n",
    "    layers.Dense(128, activation='relu', input_shape=(X_train.shape[1],)),\n",
    "    layers.Dense(64, activation='relu'),\n",
    "    layers.Dense(32, activation='relu'),\n",
    "    layers.Dense(1, activation='sigmoid')\n",
    "])\n",
    "\n",
    "# Compile the model\n",
    "model.compile(optimizer='adam',\n",
    "              loss='binary_crossentropy',\n",
    "              metrics=['accuracy'])\n",
    "\n",
    "# Train the model\n",
    "\n"
   ]
  },
  {
   "cell_type": "code",
   "execution_count": 149,
   "metadata": {},
   "outputs": [
    {
     "name": "stdout",
     "output_type": "stream",
     "text": [
      "Epoch 1/10\n",
      "45121/45121 [==============================] - 79s 2ms/step - loss: 0.2705 - accuracy: 0.8783 - val_loss: 0.2604 - val_accuracy: 0.8816\n",
      "Epoch 2/10\n",
      "45121/45121 [==============================] - 67s 1ms/step - loss: 0.2601 - accuracy: 0.8837 - val_loss: 0.2479 - val_accuracy: 0.8870\n",
      "Epoch 3/10\n",
      "45121/45121 [==============================] - 67s 1ms/step - loss: 0.2511 - accuracy: 0.8878 - val_loss: 0.2369 - val_accuracy: 0.8941\n",
      "Epoch 4/10\n",
      "45121/45121 [==============================] - 69s 2ms/step - loss: 0.2438 - accuracy: 0.8917 - val_loss: 0.2740 - val_accuracy: 0.8800\n",
      "Epoch 5/10\n",
      "45121/45121 [==============================] - 67s 1ms/step - loss: 0.2384 - accuracy: 0.8941 - val_loss: 0.2315 - val_accuracy: 0.8978\n",
      "Epoch 6/10\n",
      "45121/45121 [==============================] - 67s 1ms/step - loss: 0.2329 - accuracy: 0.8967 - val_loss: 0.2236 - val_accuracy: 0.9029\n",
      "Epoch 7/10\n",
      "45121/45121 [==============================] - 67s 1ms/step - loss: 0.2282 - accuracy: 0.8986 - val_loss: 0.2146 - val_accuracy: 0.9060\n",
      "Epoch 8/10\n",
      "45121/45121 [==============================] - 66s 1ms/step - loss: 0.2239 - accuracy: 0.9008 - val_loss: 0.2186 - val_accuracy: 0.9038\n",
      "Epoch 9/10\n",
      "45121/45121 [==============================] - 66s 1ms/step - loss: 0.2201 - accuracy: 0.9028 - val_loss: 0.2143 - val_accuracy: 0.9058\n",
      "Epoch 10/10\n",
      "45121/45121 [==============================] - 69s 2ms/step - loss: 0.2170 - accuracy: 0.9042 - val_loss: 0.2084 - val_accuracy: 0.9089\n"
     ]
    }
   ],
   "source": [
    "history = model.fit(X_train, y_train, epochs=10, batch_size=32 ,validation_split=0.2,)\n"
   ]
  },
  {
   "cell_type": "code",
   "execution_count": 212,
   "metadata": {},
   "outputs": [
    {
     "name": "stderr",
     "output_type": "stream",
     "text": [
      "c:\\Users\\basim\\AppData\\Local\\Programs\\Python\\Python310\\lib\\site-packages\\keras\\src\\engine\\training.py:3103: UserWarning: You are saving your model as an HDF5 file via `model.save()`. This file format is considered legacy. We recommend using instead the native Keras format, e.g. `model.save('my_model.keras')`.\n",
      "  saving_api.save_model(\n"
     ]
    }
   ],
   "source": [
    "from keras.models import load_model\n",
    "\n",
    "# Save the model\n",
    "model.save('my_model.h5')  # creates a HDF5 file 'my_model.h5'\n",
    "# Load the model\n",
    "loaded_model = load_model('my_model.h5')"
   ]
  },
  {
   "cell_type": "code",
   "execution_count": 151,
   "metadata": {},
   "outputs": [
    {
     "data": {
      "image/png": "[encoded data removed]",
      "text/plain": [
       "<Figure size 640x480 with 1 Axes>"
      ]
     },
     "metadata": {},
     "output_type": "display_data"
    }
   ],
   "source": [
    "plt.plot(history.history['accuracy'], label='Training Accuracy')\n",
    "plt.plot(history.history['val_accuracy'], label='Validation Accuracy')\n",
    "plt.xlabel('Epoch')\n",
    "plt.ylabel('Accuracy')\n",
    "plt.legend()\n",
    "plt.show()\n"
   ]
  },
  {
   "cell_type": "code",
   "execution_count": 152,
   "metadata": {},
   "outputs": [
    {
     "data": {
      "image/png": "[encoded data removed]",
      "text/plain": [
       "<Figure size 640x480 with 1 Axes>"
      ]
     },
     "metadata": {},
     "output_type": "display_data"
    }
   ],
   "source": [
    "plt.plot(history.history['loss'], label='Training Loss')\n",
    "plt.plot(history.history['val_loss'], label='Validation Loss')\n",
    "plt.xlabel('Epoch')\n",
    "plt.ylabel('Loss')\n",
    "plt.legend()\n",
    "plt.show()\n"
   ]
  },
  {
   "cell_type": "code",
   "execution_count": 154,
   "metadata": {},
   "outputs": [
    {
     "name": "stdout",
     "output_type": "stream",
     "text": [
      "24172/24172 [==============================] - 26s 1ms/step - loss: 0.2096 - accuracy: 0.9074\n",
      "Test Loss: 0.20963217318058014\n",
      "Test Accuracy: 0.9073719382286072\n"
     ]
    }
   ],
   "source": [
    "# Evaluate the model\n",
    "loss, accuracy = model.evaluate(X_test, y_test)\n",
    "print('Test Loss:', loss)\n",
    "print('Test Accuracy:', accuracy)\n"
   ]
  },
  {
   "cell_type": "code",
   "execution_count": 226,
   "metadata": {},
   "outputs": [
    {
     "name": "stdout",
     "output_type": "stream",
     "text": [
      "1/1 [==============================] - 0s 27ms/step\n",
      "Fraudulent Transaction\n",
      "The predicted value is: 0.9645624160766602\n"
     ]
    },
    {
     "name": "stderr",
     "output_type": "stream",
     "text": [
      "c:\\Users\\basim\\AppData\\Local\\Programs\\Python\\Python310\\lib\\site-packages\\sklearn\\base.py:465: UserWarning: X does not have valid feature names, but MinMaxScaler was fitted with feature names\n",
      "  warnings.warn(\n"
     ]
    }
   ],
   "source": [
    "# Take input from the user\n",
    "input_data = []\n",
    "with open('min_max_scaler.pkl', 'rb') as file:\n",
    "    scaler = pickle.load(file)\n",
    "\n",
    "# Prompt the user for input\n",
    "for feature in df_normalized.columns:\n",
    "    value = input(f\"Enter the value for {feature}: \")\n",
    "    input_data.append(float(value))\n",
    "\n",
    "# Convert the input data into a numpy array\n",
    "input_data = np.array(input_data).reshape(1, -1)\n",
    "\n",
    "# Scale the input data using the same scaler used for training\n",
    "input_data_scaled = scaler.transform(input_data)\n",
    "\n",
    "# Make predictions using the model\n",
    "prediction = loaded_model.predict(input_data_scaled)\n",
    "if(prediction[0][0] > 0.5):\n",
    "    print(\"Fraudulent Transaction\")\n",
    "else:\n",
    "    print(\"Legitimate Transaction\")\n",
    "    \n",
    "# Print the predicted value\n",
    "print(f\"The predicted value is: {prediction[0][0]}\")\n",
    "\n"
   ]
  },
  {
   "cell_type": "code",
   "execution_count": null,
   "metadata": {},
   "outputs": [],
   "source": [
    "# 1295274,6564459919350820,725.6,53803,1306,4c8f2df49533aec89d39202e11c4fdb4,1371771626,1\n",
    "# 1295314,3560725013359375,15.87,79759,23,4d41749b3c465a255da56e54608645fd,1371773103,1\n",
    "# 1295315,3524574586339330,9.18,32960,105638,1e924fbe61d8fbaf6ea24b671c97709b,1371773229,1\n",
    "# 1295399,3524574586339330,977.01,32960,105638,a83b093f0c1d9068fa0089f7c722615f,1371776408,1\n",
    "# 1295491,3524574586339330,1210.91,32960,105638,f75b35bed13b9e692f170dba45a15b21,1371779615,1\n",
    "# 876925,180040131978916,1106.9,16428,12478,bd8ca1d75feb6511bb1a7b62b579dab5,1356116402,1\n",
    "# 1295255,3560725013359375,1063.03,79759,23,88d038dce3add03666ab117a9d7225e6,1371770992,1\n",
    "# 1295256,180094419304907,145.75,92585,54287,f8740523638b2502c78ed7e26e2407bd,1371770998,0\n",
    "# 1295257,3573030041201292,222.69,84002,302,b72184f055fce8de222ecf5e9d569fe3,1371771065,1"
   ]
  }
 ],
 "metadata": {
  "kernelspec": {
   "display_name": "Python 3",
   "language": "python",
   "name": "python3"
  },
  "language_info": {
   "codemirror_mode": {
    "name": "ipython",
    "version": 3
   },
   "file_extension": ".py",
   "mimetype": "text/x-python",
   "name": "python",
   "nbconvert_exporter": "python",
   "pygments_lexer": "ipython3",
   "version": "3.10.8"
  }
 },
 "nbformat": 4,
 "nbformat_minor": 2
}
